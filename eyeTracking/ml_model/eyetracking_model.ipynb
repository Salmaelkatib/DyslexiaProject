{
 "cells": [
  {
   "cell_type": "code",
   "execution_count": 47,
   "metadata": {},
   "outputs": [],
   "source": [
    "import pandas as pd\n",
    "import matplotlib.pyplot as plt\n",
    "import seaborn as sns\n",
    "from sklearn.preprocessing import LabelEncoder"
   ]
  },
  {
   "cell_type": "code",
   "execution_count": 48,
   "metadata": {},
   "outputs": [
    {
     "name": "stdout",
     "output_type": "stream",
     "text": [
      "#-----> First 5 rows of the training set:\n",
      "\n"
     ]
    },
    {
     "data": {
      "text/html": [
       "<div>\n",
       "<style scoped>\n",
       "    .dataframe tbody tr th:only-of-type {\n",
       "        vertical-align: middle;\n",
       "    }\n",
       "\n",
       "    .dataframe tbody tr th {\n",
       "        vertical-align: top;\n",
       "    }\n",
       "\n",
       "    .dataframe thead th {\n",
       "        text-align: right;\n",
       "    }\n",
       "</style>\n",
       "<table border=\"1\" class=\"dataframe\">\n",
       "  <thead>\n",
       "    <tr style=\"text-align: right;\">\n",
       "      <th></th>\n",
       "      <th>Participant Code</th>\n",
       "      <th>Gender</th>\n",
       "      <th>Avg_Fix_Duration</th>\n",
       "      <th>Avg_Sacc_Duration</th>\n",
       "      <th>Total_Fix</th>\n",
       "      <th>Total_Sacc</th>\n",
       "      <th>Sacc_Fix_Ratio</th>\n",
       "      <th>Dyslexic</th>\n",
       "    </tr>\n",
       "  </thead>\n",
       "  <tbody>\n",
       "    <tr>\n",
       "      <th>0</th>\n",
       "      <td>111JA2</td>\n",
       "      <td>female</td>\n",
       "      <td>428.048781</td>\n",
       "      <td>22.077922</td>\n",
       "      <td>82</td>\n",
       "      <td>77</td>\n",
       "      <td>0.939024</td>\n",
       "      <td>yes</td>\n",
       "    </tr>\n",
       "    <tr>\n",
       "      <th>1</th>\n",
       "      <td>111RP1</td>\n",
       "      <td>male</td>\n",
       "      <td>342.020202</td>\n",
       "      <td>22.244898</td>\n",
       "      <td>99</td>\n",
       "      <td>98</td>\n",
       "      <td>0.989899</td>\n",
       "      <td>yes</td>\n",
       "    </tr>\n",
       "    <tr>\n",
       "      <th>2</th>\n",
       "      <td>112JU3</td>\n",
       "      <td>male</td>\n",
       "      <td>280.336135</td>\n",
       "      <td>17.857143</td>\n",
       "      <td>119</td>\n",
       "      <td>112</td>\n",
       "      <td>0.941176</td>\n",
       "      <td>no</td>\n",
       "    </tr>\n",
       "    <tr>\n",
       "      <th>3</th>\n",
       "      <td>112KA1</td>\n",
       "      <td>male</td>\n",
       "      <td>575.937500</td>\n",
       "      <td>9.206349</td>\n",
       "      <td>64</td>\n",
       "      <td>63</td>\n",
       "      <td>0.984375</td>\n",
       "      <td>yes</td>\n",
       "    </tr>\n",
       "    <tr>\n",
       "      <th>4</th>\n",
       "      <td>11GM3</td>\n",
       "      <td>male</td>\n",
       "      <td>200.173913</td>\n",
       "      <td>28.041237</td>\n",
       "      <td>115</td>\n",
       "      <td>97</td>\n",
       "      <td>0.843478</td>\n",
       "      <td>no</td>\n",
       "    </tr>\n",
       "  </tbody>\n",
       "</table>\n",
       "</div>"
      ],
      "text/plain": [
       "  Participant Code  Gender  Avg_Fix_Duration  Avg_Sacc_Duration  Total_Fix   \n",
       "0           111JA2  female        428.048781          22.077922         82  \\\n",
       "1           111RP1    male        342.020202          22.244898         99   \n",
       "2           112JU3    male        280.336135          17.857143        119   \n",
       "3           112KA1    male        575.937500           9.206349         64   \n",
       "4            11GM3    male        200.173913          28.041237        115   \n",
       "\n",
       "   Total_Sacc  Sacc_Fix_Ratio Dyslexic  \n",
       "0          77        0.939024      yes  \n",
       "1          98        0.989899      yes  \n",
       "2         112        0.941176       no  \n",
       "3          63        0.984375      yes  \n",
       "4          97        0.843478       no  "
      ]
     },
     "execution_count": 48,
     "metadata": {},
     "output_type": "execute_result"
    }
   ],
   "source": [
    "# Load the training set\n",
    "df = pd.read_csv(r'.\\eyeTracking_dataset/eyetracking_dataset.csv')\n",
    "\n",
    "print(\"#-----> First 5 rows of the training set:\\n\")\n",
    "df.head(5)"
   ]
  },
  {
   "cell_type": "code",
   "execution_count": 49,
   "metadata": {},
   "outputs": [],
   "source": [
    "import numpy as np\n",
    "from sklearn.model_selection import train_test_split\n",
    "from sklearn.preprocessing import StandardScaler\n",
    "from sklearn.linear_model import LogisticRegression\n",
    "import tensorflow as tf"
   ]
  },
  {
   "cell_type": "code",
   "execution_count": 50,
   "metadata": {},
   "outputs": [],
   "source": [
    "label_encoder = LabelEncoder()\n",
    "df['Gender'] = label_encoder.fit_transform(df['Gender'])\n",
    "df['Dyslexic'] = label_encoder.fit_transform(df['Dyslexic'])"
   ]
  },
  {
   "cell_type": "code",
   "execution_count": 51,
   "metadata": {},
   "outputs": [],
   "source": [
    "df.drop(columns=['Participant Code'], inplace=True)\n",
    "X_features = df.drop(['Dyslexic'], axis=1)\n",
    "y_labels= df['Dyslexic']"
   ]
  },
  {
   "cell_type": "code",
   "execution_count": 52,
   "metadata": {},
   "outputs": [],
   "source": [
    "# Split the data into training and testing sets\n",
    "X_train, X_test, y_train, y_test = train_test_split(X_features, y_labels, test_size=0.2, random_state=42, stratify=y_labels)\n",
    "\n",
    "# Standardize the input features\n",
    "scaler = StandardScaler()\n",
    "X_train = scaler.fit_transform(X_train)\n",
    "X_test = scaler.transform(X_test)"
   ]
  },
  {
   "cell_type": "code",
   "execution_count": 53,
   "metadata": {},
   "outputs": [
    {
     "name": "stdout",
     "output_type": "stream",
     "text": [
      "Accuracy: 0.8378378378378378\n",
      "Classification Report: (RBF Kernel)\n",
      "              precision    recall  f1-score   support\n",
      "\n",
      "           0       0.77      0.94      0.85        18\n",
      "           1       0.93      0.74      0.82        19\n",
      "\n",
      "    accuracy                           0.84        37\n",
      "   macro avg       0.85      0.84      0.84        37\n",
      "weighted avg       0.86      0.84      0.84        37\n",
      "\n"
     ]
    }
   ],
   "source": [
    "from sklearn.svm import SVC\n",
    "from sklearn.metrics import classification_report, accuracy_score\n",
    "\n",
    "svm_model_rbf = SVC(kernel='rbf', gamma='scale')  # RBF kernel\n",
    "svm_model_rbf.fit(X_train, y_train)\n",
    "\n",
    "# Predict on the test data\n",
    "y_pred = svm_model_rbf.predict(X_test)\n",
    "\n",
    "# Evaluate the model\n",
    "accuracy = accuracy_score(y_test, y_pred)\n",
    "print(f\"Accuracy: {accuracy}\")\n",
    "\n",
    "# Classification report\n",
    "print(\"Classification Report: (RBF Kernel)\")\n",
    "print(classification_report(y_test, y_pred))\n"
   ]
  },
  {
   "cell_type": "code",
   "execution_count": 59,
   "metadata": {},
   "outputs": [
    {
     "name": "stdout",
     "output_type": "stream",
     "text": [
      "Accuracy (Linear Kernel): 0.9459459459459459\n",
      "Classification Report (Linear Kernel):\n",
      "              precision    recall  f1-score   support\n",
      "\n",
      "           0       1.00      0.89      0.94        18\n",
      "           1       0.90      1.00      0.95        19\n",
      "\n",
      "    accuracy                           0.95        37\n",
      "   macro avg       0.95      0.94      0.95        37\n",
      "weighted avg       0.95      0.95      0.95        37\n",
      "\n"
     ]
    }
   ],
   "source": [
    "svm_model_linear = SVC(kernel='linear', gamma='scale')  # Linear kernel\n",
    "svm_model_linear.fit(X_train, y_train)\n",
    "\n",
    "# Predict on the test data\n",
    "y_pred_linear = svm_model_linear.predict(X_test)\n",
    "\n",
    "# Evaluate the model\n",
    "accuracy_linear = accuracy_score(y_test, y_pred_linear)\n",
    "print(f\"Accuracy (Linear Kernel): {accuracy_linear}\")\n",
    "\n",
    "# Classification report\n",
    "print(\"Classification Report (Linear Kernel):\")\n",
    "print(classification_report(y_test, y_pred_linear))"
   ]
  },
  {
   "cell_type": "code",
   "execution_count": 78,
   "metadata": {},
   "outputs": [
    {
     "name": "stdout",
     "output_type": "stream",
     "text": [
      "Accuracy: 0.918918918918919\n",
      "Classification Report: (XGBOOST)\n",
      "              precision    recall  f1-score   support\n",
      "\n",
      "           0       0.94      0.89      0.91        18\n",
      "           1       0.90      0.95      0.92        19\n",
      "\n",
      "    accuracy                           0.92        37\n",
      "   macro avg       0.92      0.92      0.92        37\n",
      "weighted avg       0.92      0.92      0.92        37\n",
      "\n"
     ]
    },
    {
     "name": "stderr",
     "output_type": "stream",
     "text": [
      "d:\\apps n shit\\programming\\Python\\Lib\\site-packages\\xgboost\\core.py:160: UserWarning: [13:16:34] WARNING: C:\\buildkite-agent\\builds\\buildkite-windows-cpu-autoscaling-group-i-0b3782d1791676daf-1\\xgboost\\xgboost-ci-windows\\src\\learner.cc:742: \n",
      "Parameters: { \"silent\" } are not used.\n",
      "\n",
      "  warnings.warn(smsg, UserWarning)\n"
     ]
    }
   ],
   "source": [
    "import xgboost as xgb\n",
    "\n",
    "# Convert data to DMatrix format (optimized for XGBoost)\n",
    "dtrain = xgb.DMatrix(X_train, label=y_train)\n",
    "dtest = xgb.DMatrix(X_test, label=y_test)\n",
    "\n",
    "# Set XGBoost parameters\n",
    "params = {\n",
    "    'num_class': 2,  # Binary classification\n",
    "    'eval_metric': 'logloss',  # Evaluation metric (log loss for binary)\n",
    "    'max_depth': 3,  # Depth of each tree\n",
    "    'eta': 0.01,  # Learning rate\n",
    "    'silent': 1  # Silent mode (no output from XGBoost)\n",
    "}\n",
    "\n",
    "# Train XGBoost model\n",
    "num_rounds = 20  # Number of boosting rounds\n",
    "model = xgb.train(params, dtrain, num_rounds)\n",
    "\n",
    "# Predict probabilities on test data\n",
    "y_pred_proba = model.predict(dtest)\n",
    "\n",
    "# Evaluate the model\n",
    "accuracy = accuracy_score(y_test, y_pred)\n",
    "print(f\"Accuracy: {accuracy}\")\n",
    "\n",
    "# Classification report\n",
    "print(\"Classification Report: (XGBOOST)\")\n",
    "print(classification_report(y_test, y_pred))"
   ]
  },
  {
   "cell_type": "code",
   "execution_count": 75,
   "metadata": {},
   "outputs": [
    {
     "name": "stdout",
     "output_type": "stream",
     "text": [
      "Accuracy: 0.918918918918919\n",
      "              precision    recall  f1-score   support\n",
      "\n",
      "           0       0.94      0.89      0.91        18\n",
      "           1       0.90      0.95      0.92        19\n",
      "\n",
      "    accuracy                           0.92        37\n",
      "   macro avg       0.92      0.92      0.92        37\n",
      "weighted avg       0.92      0.92      0.92        37\n",
      "\n"
     ]
    }
   ],
   "source": [
    "from sklearn.ensemble import GradientBoostingClassifier\n",
    "\n",
    "# Initialize Gradient Boosting Classifier\n",
    "gb_clf = GradientBoostingClassifier(n_estimators=100, learning_rate=0.1, max_depth=3, random_state=42)\n",
    "\n",
    "# Train the model\n",
    "gb_clf.fit(X_train, y_train)\n",
    "\n",
    "# Predict on test data\n",
    "y_pred = gb_clf.predict(X_test)\n",
    "\n",
    "# Evaluate the model\n",
    "accuracy = accuracy_score(y_test, y_pred)\n",
    "print(f\"Accuracy: {accuracy}\")\n",
    "\n",
    "# Print classification report\n",
    "print(classification_report(y_test, y_pred))"
   ]
  },
  {
   "cell_type": "code",
   "execution_count": 84,
   "metadata": {},
   "outputs": [
    {
     "name": "stdout",
     "output_type": "stream",
     "text": [
      "Accuracy: 0.918918918918919\n",
      "              precision    recall  f1-score   support\n",
      "\n",
      "           0       0.89      0.94      0.92        18\n",
      "           1       0.94      0.89      0.92        19\n",
      "\n",
      "    accuracy                           0.92        37\n",
      "   macro avg       0.92      0.92      0.92        37\n",
      "weighted avg       0.92      0.92      0.92        37\n",
      "\n"
     ]
    }
   ],
   "source": [
    "from sklearn.ensemble import AdaBoostClassifier\n",
    "\n",
    "# Initialize AdaBoost Classifier\n",
    "ada_clf = AdaBoostClassifier(n_estimators=50, learning_rate=0.01, random_state=42)\n",
    "\n",
    "# Train the model\n",
    "ada_clf.fit(X_train, y_train)\n",
    "\n",
    "# Predict on test data\n",
    "y_pred = ada_clf.predict(X_test)\n",
    "\n",
    "# Evaluate the model\n",
    "accuracy = accuracy_score(y_test, y_pred)\n",
    "print(f\"Accuracy: {accuracy}\")\n",
    "\n",
    "# Print classification report\n",
    "print(classification_report(y_test, y_pred))"
   ]
  },
  {
   "cell_type": "code",
   "execution_count": 88,
   "metadata": {},
   "outputs": [
    {
     "name": "stdout",
     "output_type": "stream",
     "text": [
      "Accuracy: 0.9459459459459459\n",
      "              precision    recall  f1-score   support\n",
      "\n",
      "           0       0.94      0.94      0.94        18\n",
      "           1       0.95      0.95      0.95        19\n",
      "\n",
      "    accuracy                           0.95        37\n",
      "   macro avg       0.95      0.95      0.95        37\n",
      "weighted avg       0.95      0.95      0.95        37\n",
      "\n"
     ]
    }
   ],
   "source": [
    "from sklearn.ensemble import RandomForestClassifier\n",
    "\n",
    "# Initialize Random Forest Classifier\n",
    "rf_clf = RandomForestClassifier(n_estimators=100, max_depth=5, random_state=42)\n",
    "\n",
    "# Train the model\n",
    "rf_clf.fit(X_train, y_train)\n",
    "\n",
    "# Predict on test data\n",
    "y_pred = rf_clf.predict(X_test)\n",
    "\n",
    "# Evaluate the model\n",
    "accuracy = accuracy_score(y_test, y_pred)\n",
    "print(f\"Accuracy: {accuracy}\")\n",
    "\n",
    "# Print classification report\n",
    "print(classification_report(y_test, y_pred))"
   ]
  },
  {
   "cell_type": "code",
   "execution_count": null,
   "metadata": {},
   "outputs": [],
   "source": [
    "import pickle\n",
    "\n",
    "# Save the model to a .sav file\n",
    "filename = 'lr_model.sav'\n",
    "with open(filename, 'wb') as file:\n",
    "    pickle.dump(model, file)\n",
    "\n",
    "pickle.dump(scaler, open(\"scaler.sav\", \"wb\"))"
   ]
  },
  {
   "cell_type": "code",
   "execution_count": null,
   "metadata": {},
   "outputs": [
    {
     "name": "stderr",
     "output_type": "stream",
     "text": [
      "d:\\apps n shit\\programming\\Python\\Lib\\site-packages\\sklearn\\cluster\\_kmeans.py:1416: FutureWarning: The default value of `n_init` will change from 10 to 'auto' in 1.4. Set the value of `n_init` explicitly to suppress the warning\n",
      "  super()._check_params_vs_input(X, default_n_init=10)\n"
     ]
    },
    {
     "data": {
      "image/png": "[encoded data removed]",
      "text/plain": [
       "<Figure size 640x480 with 1 Axes>"
      ]
     },
     "metadata": {},
     "output_type": "display_data"
    }
   ],
   "source": [
    "import numpy as np\n",
    "from sklearn.cluster import KMeans\n",
    "import matplotlib.pyplot as plt\n",
    "\n",
    "# Assuming X_train is already defined and contains your features\n",
    "# Features: Gender, Avg_Fix_Duration, Avg_Sacc_Duration, Total_Fix, Total_Sacc, Sacc_Fix_Ratio\n",
    "\n",
    "# Define and fit the KMeans model\n",
    "kmeans_model = KMeans(n_clusters=4, random_state=42)\n",
    "kmeans_result = kmeans_model.fit_predict(X_train)\n",
    "\n",
    "# Get all of the unique KMeans clusters\n",
    "kmeans_clusters = np.unique(kmeans_result)\n",
    "\n",
    "# Plot the KMeans clusters (using two features for visualization, e.g., Avg_Fix_Duration and Avg_Sacc_Duration)\n",
    "for kmeans_cluster in kmeans_clusters:\n",
    "    # Get data points that fall in this cluster\n",
    "    index = np.where(kmeans_result == kmeans_cluster)\n",
    "    # Make the plot\n",
    "    plt.scatter(X_train[index, 1], X_train[index, 2], label=f'Cluster {kmeans_cluster}')  # Assuming column 1 is Avg_Fix_Duration and column 2 is Avg_Sacc_Duration\n",
    "\n",
    "# Plot the cluster centers\n",
    "centers = kmeans_model.cluster_centers_\n",
    "plt.scatter(centers[:, 1], centers[:, 2], c='red', marker='x', s=200, label='Centroids')\n",
    "\n",
    "# Show the KMeans plot\n",
    "plt.title('KMeans Clustering')\n",
    "plt.xlabel('Avg_Fix_Duration')\n",
    "plt.ylabel('Avg_Sacc_Duration')\n",
    "plt.legend()\n",
    "plt.show()\n"
   ]
  }
 ],
 "metadata": {
  "kernelspec": {
   "display_name": "Python 3",
   "language": "python",
   "name": "python3"
  },
  "language_info": {
   "codemirror_mode": {
    "name": "ipython",
    "version": 3
   },
   "file_extension": ".py",
   "mimetype": "text/x-python",
   "name": "python",
   "nbconvert_exporter": "python",
   "pygments_lexer": "ipython3",
   "version": "3.11.3"
  }
 },
 "nbformat": 4,
 "nbformat_minor": 2
}
