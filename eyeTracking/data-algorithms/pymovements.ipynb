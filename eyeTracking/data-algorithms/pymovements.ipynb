{
 "cells": [
  {
   "cell_type": "code",
   "execution_count": 38,
   "metadata": {},
   "outputs": [],
   "source": [
    "import pymovements as pm\n"
   ]
  },
  {
   "cell_type": "code",
   "execution_count": 39,
   "metadata": {},
   "outputs": [],
   "source": [
    "experiment = pm.gaze.Experiment(\n",
    "    screen_width_px=1134,\n",
    "    screen_height_px=1512,\n",
    "    screen_width_cm=30,\n",
    "    screen_height_cm=40,\n",
    "    distance_cm=45,\n",
    "    origin='center',\n",
    "    sampling_rate=100,\n",
    ")\n"
   ]
  },
  {
   "cell_type": "code",
   "execution_count": 40,
   "metadata": {},
   "outputs": [],
   "source": [
    "time_column = 'T'\n",
    "time_unit = 'ms'\n",
    "pixel_columns = ['AVG_X', 'AVG_Y']\n",
    "\n",
    "dataset_definition = pm.DatasetDefinition(\n",
    "    name='my_dataset',\n",
    "    experiment=experiment,\n",
    "    time_column=time_column,\n",
    "    time_unit=time_unit,\n",
    "    pixel_columns=pixel_columns,\n",
    ")\n"
   ]
  },
  {
   "cell_type": "code",
   "execution_count": 41,
   "metadata": {},
   "outputs": [],
   "source": [
    "dataset_paths = pm.DatasetPaths(\n",
    "    root='data/',\n",
    "    raw='raw',\n",
    "    preprocessed='preprocessed',\n",
    "    events='events',\n",
    ")\n",
    "\n",
    "dataset = pm.Dataset(\n",
    "    definition=dataset_definition,\n",
    "    path=dataset_paths,\n",
    ")"
   ]
  },
  {
   "cell_type": "code",
   "execution_count": 42,
   "metadata": {},
   "outputs": [
    {
     "data": {
      "application/vnd.jupyter.widget-view+json": {
       "model_id": "b984ea499f0b441b94d5a9aa12049bb0",
       "version_major": 2,
       "version_minor": 0
      },
      "text/plain": [
       "  0%|          | 0/185 [00:00<?, ?it/s]"
      ]
     },
     "metadata": {},
     "output_type": "display_data"
    },
    {
     "data": {
      "text/plain": [
       "<pymovements.dataset.dataset.Dataset at 0x2256fc3ab70>"
      ]
     },
     "execution_count": 42,
     "metadata": {},
     "output_type": "execute_result"
    }
   ],
   "source": [
    "dataset.load()"
   ]
  },
  {
   "cell_type": "code",
   "execution_count": 43,
   "metadata": {},
   "outputs": [
    {
     "data": {
      "text/html": [
       "<div><style>\n",
       ".dataframe > thead > tr,\n",
       ".dataframe > tbody > tr {\n",
       "  text-align: right;\n",
       "  white-space: pre-wrap;\n",
       "}\n",
       "</style>\n",
       "<small>shape: (1_500, 6)</small><table border=\"1\" class=\"dataframe\"><thead><tr><th>time</th><th>LX</th><th>LY</th><th>RX</th><th>RY</th><th>pixel</th></tr><tr><td>i64</td><td>f64</td><td>f64</td><td>f64</td><td>f64</td><td>list[f64]</td></tr></thead><tbody><tr><td>0</td><td>0.0</td><td>0.0</td><td>0.0</td><td>0.0</td><td>[0.0, 0.0]</td></tr><tr><td>20</td><td>0.65535</td><td>-0.00001</td><td>0.65536</td><td>-0.65536</td><td>[7.740413, -3.870295]</td></tr><tr><td>40</td><td>0.65534</td><td>-0.00001</td><td>0.65536</td><td>-0.65536</td><td>[7.740354, -3.870295]</td></tr><tr><td>60</td><td>0.65534</td><td>-0.00001</td><td>0.65535</td><td>-0.65536</td><td>[7.740295, -3.870295]</td></tr><tr><td>80</td><td>0.65534</td><td>-0.00001</td><td>0.65534</td><td>0.0</td><td>[7.740236, -0.000059]</td></tr><tr><td>100</td><td>0.65533</td><td>-0.00001</td><td>0.65534</td><td>-0.65536</td><td>[7.740177, -3.870295]</td></tr><tr><td>120</td><td>1.31069</td><td>-0.00001</td><td>0.65534</td><td>-0.65536</td><td>[11.610413, -3.870295]</td></tr><tr><td>140</td><td>1.31069</td><td>-0.65537</td><td>1.31069</td><td>-0.65536</td><td>[15.480591, -7.740531]</td></tr><tr><td>160</td><td>1.31068</td><td>-0.65537</td><td>1.31069</td><td>-0.65536</td><td>[15.480531, -7.740531]</td></tr><tr><td>180</td><td>0.65532</td><td>-0.00001</td><td>1.31069</td><td>0.0</td><td>[11.610295, -0.000059]</td></tr><tr><td>200</td><td>1.31068</td><td>0.65536</td><td>1.31068</td><td>0.00001</td><td>[15.480472, 3.870295]</td></tr><tr><td>220</td><td>-0.65543</td><td>3.27683</td><td>-1.96614</td><td>5.89831</td><td>[-15.481713, 54.183898]</td></tr><tr><td>&hellip;</td><td>&hellip;</td><td>&hellip;</td><td>&hellip;</td><td>&hellip;</td><td>&hellip;</td></tr><tr><td>29760</td><td>107.48327</td><td>34.73374</td><td>106.8254</td><td>36.04447</td><td>[1265.602382, 417.981555]</td></tr><tr><td>29780</td><td>106.17004</td><td>36.69983</td><td>104.85935</td><td>37.35521</td><td>[1246.236555, 437.332913]</td></tr><tr><td>29800</td><td>103.54864</td><td>38.66593</td><td>102.89331</td><td>39.32129</td><td>[1219.145374, 460.554449]</td></tr><tr><td>29820</td><td>102.89331</td><td>39.32129</td><td>102.23797</td><td>39.3213</td><td>[1211.405197, 464.424744]</td></tr><tr><td>29840</td><td>101.58261</td><td>39.32129</td><td>102.238</td><td>39.3213</td><td>[1203.66502, 464.424744]</td></tr><tr><td>29860</td><td>102.89335</td><td>39.32129</td><td>102.89336</td><td>38.01058</td><td>[1215.275846, 456.684272]</td></tr><tr><td>29880</td><td>103.54872</td><td>37.3552</td><td>104.85945</td><td>36.69984</td><td>[1230.756909, 437.332913]</td></tr><tr><td>29900</td><td>105.5148</td><td>36.04447</td><td>106.17018</td><td>32.76765</td><td>[1250.10815, 406.370787]</td></tr><tr><td>29920</td><td>107.48088</td><td>27.52472</td><td>108.79159</td><td>14.41743</td><td>[1277.199626, 247.689862]</td></tr><tr><td>29940</td><td>108.13612</td><td>-16.38473</td><td>102.8931</td><td>-78.64416</td><td>[1246.235551, -561.194232]</td></tr><tr><td>29960</td><td>104.2038</td><td>-135.00506</td><td>114.69085</td><td>-155.97572</td><td>[1292.684941, -1718.390433]</td></tr><tr><td>29980</td><td>84.54518</td><td>-146.80003</td><td>45.87948</td><td>-126.48386</td><td>[770.22437, -1613.88124]</td></tr></tbody></table></div>"
      ],
      "text/plain": [
       "shape: (1_500, 6)\n",
       "┌───────┬───────────┬────────────┬───────────┬────────────┬─────────────────────────────┐\n",
       "│ time  ┆ LX        ┆ LY         ┆ RX        ┆ RY         ┆ pixel                       │\n",
       "│ ---   ┆ ---       ┆ ---        ┆ ---       ┆ ---        ┆ ---                         │\n",
       "│ i64   ┆ f64       ┆ f64        ┆ f64       ┆ f64        ┆ list[f64]                   │\n",
       "╞═══════╪═══════════╪════════════╪═══════════╪════════════╪═════════════════════════════╡\n",
       "│ 0     ┆ 0.0       ┆ 0.0        ┆ 0.0       ┆ 0.0        ┆ [0.0, 0.0]                  │\n",
       "│ 20    ┆ 0.65535   ┆ -0.00001   ┆ 0.65536   ┆ -0.65536   ┆ [7.740413, -3.870295]       │\n",
       "│ 40    ┆ 0.65534   ┆ -0.00001   ┆ 0.65536   ┆ -0.65536   ┆ [7.740354, -3.870295]       │\n",
       "│ 60    ┆ 0.65534   ┆ -0.00001   ┆ 0.65535   ┆ -0.65536   ┆ [7.740295, -3.870295]       │\n",
       "│ …     ┆ …         ┆ …          ┆ …         ┆ …          ┆ …                           │\n",
       "│ 29920 ┆ 107.48088 ┆ 27.52472   ┆ 108.79159 ┆ 14.41743   ┆ [1277.199626, 247.689862]   │\n",
       "│ 29940 ┆ 108.13612 ┆ -16.38473  ┆ 102.8931  ┆ -78.64416  ┆ [1246.235551, -561.194232]  │\n",
       "│ 29960 ┆ 104.2038  ┆ -135.00506 ┆ 114.69085 ┆ -155.97572 ┆ [1292.684941, -1718.390433] │\n",
       "│ 29980 ┆ 84.54518  ┆ -146.80003 ┆ 45.87948  ┆ -126.48386 ┆ [770.22437, -1613.88124]    │\n",
       "└───────┴───────────┴────────────┴───────────┴────────────┴─────────────────────────────┘"
      ]
     },
     "execution_count": 43,
     "metadata": {},
     "output_type": "execute_result"
    }
   ],
   "source": [
    "dataset.gaze[0].frame"
   ]
  },
  {
   "cell_type": "code",
   "execution_count": 44,
   "metadata": {},
   "outputs": [
    {
     "data": {
      "application/vnd.jupyter.widget-view+json": {
       "model_id": "68d210d007cc4006825e0f984e919432",
       "version_major": 2,
       "version_minor": 0
      },
      "text/plain": [
       "  0%|          | 0/185 [00:00<?, ?it/s]"
      ]
     },
     "metadata": {},
     "output_type": "display_data"
    },
    {
     "data": {
      "application/vnd.jupyter.widget-view+json": {
       "model_id": "8da05b58c55e4ebc9629b4a44b3441ec",
       "version_major": 2,
       "version_minor": 0
      },
      "text/plain": [
       "  0%|          | 0/185 [00:00<?, ?it/s]"
      ]
     },
     "metadata": {},
     "output_type": "display_data"
    },
    {
     "data": {
      "text/html": [
       "<div><style>\n",
       ".dataframe > thead > tr,\n",
       ".dataframe > tbody > tr {\n",
       "  text-align: right;\n",
       "  white-space: pre-wrap;\n",
       "}\n",
       "</style>\n",
       "<small>shape: (5, 8)</small><table border=\"1\" class=\"dataframe\"><thead><tr><th>time</th><th>LX</th><th>LY</th><th>RX</th><th>RY</th><th>pixel</th><th>position</th><th>velocity</th></tr><tr><td>i64</td><td>f64</td><td>f64</td><td>f64</td><td>f64</td><td>list[f64]</td><td>list[f64]</td><td>list[f64]</td></tr></thead><tbody><tr><td>0</td><td>0.0</td><td>0.0</td><td>0.0</td><td>0.0</td><td>[0.0, 0.0]</td><td>[0.0, 0.0]</td><td>[null, null]</td></tr><tr><td>20</td><td>0.65535</td><td>-0.00001</td><td>0.65536</td><td>-0.65536</td><td>[7.740413, -3.870295]</td><td>[0.260723, -0.130365]</td><td>[null, null]</td></tr><tr><td>40</td><td>0.65534</td><td>-0.00001</td><td>0.65536</td><td>-0.65536</td><td>[7.740354, -3.870295]</td><td>[0.260721, -0.130365]</td><td>[4.345219, -0.000033]</td></tr><tr><td>60</td><td>0.65534</td><td>-0.00001</td><td>0.65535</td><td>-0.65536</td><td>[7.740295, -3.870295]</td><td>[0.260719, -0.130365]</td><td>[-0.000199, 2.17272]</td></tr><tr><td>80</td><td>0.65534</td><td>-0.00001</td><td>0.65534</td><td>0.0</td><td>[7.740236, -0.000059]</td><td>[0.260717, -0.000002]</td><td>[2.172487, 0.0]</td></tr></tbody></table></div>"
      ],
      "text/plain": [
       "shape: (5, 8)\n",
       "┌──────┬─────────┬──────────┬─────────┬──────────┬────────────┬────────────┬───────────────────────┐\n",
       "│ time ┆ LX      ┆ LY       ┆ RX      ┆ RY       ┆ pixel      ┆ position   ┆ velocity              │\n",
       "│ ---  ┆ ---     ┆ ---      ┆ ---     ┆ ---      ┆ ---        ┆ ---        ┆ ---                   │\n",
       "│ i64  ┆ f64     ┆ f64      ┆ f64     ┆ f64      ┆ list[f64]  ┆ list[f64]  ┆ list[f64]             │\n",
       "╞══════╪═════════╪══════════╪═════════╪══════════╪════════════╪════════════╪═══════════════════════╡\n",
       "│ 0    ┆ 0.0     ┆ 0.0      ┆ 0.0     ┆ 0.0      ┆ [0.0, 0.0] ┆ [0.0, 0.0] ┆ [null, null]          │\n",
       "│ 20   ┆ 0.65535 ┆ -0.00001 ┆ 0.65536 ┆ -0.65536 ┆ [7.740413, ┆ [0.260723, ┆ [null, null]          │\n",
       "│      ┆         ┆          ┆         ┆          ┆ -3.870295] ┆ -0.130365] ┆                       │\n",
       "│ 40   ┆ 0.65534 ┆ -0.00001 ┆ 0.65536 ┆ -0.65536 ┆ [7.740354, ┆ [0.260721, ┆ [4.345219, -0.000033] │\n",
       "│      ┆         ┆          ┆         ┆          ┆ -3.870295] ┆ -0.130365] ┆                       │\n",
       "│ 60   ┆ 0.65534 ┆ -0.00001 ┆ 0.65535 ┆ -0.65536 ┆ [7.740295, ┆ [0.260719, ┆ [-0.000199, 2.17272]  │\n",
       "│      ┆         ┆          ┆         ┆          ┆ -3.870295] ┆ -0.130365] ┆                       │\n",
       "│ 80   ┆ 0.65534 ┆ -0.00001 ┆ 0.65534 ┆ 0.0      ┆ [7.740236, ┆ [0.260717, ┆ [2.172487, 0.0]       │\n",
       "│      ┆         ┆          ┆         ┆          ┆ -0.000059] ┆ -0.000002] ┆                       │\n",
       "└──────┴─────────┴──────────┴─────────┴──────────┴────────────┴────────────┴───────────────────────┘"
      ]
     },
     "execution_count": 44,
     "metadata": {},
     "output_type": "execute_result"
    }
   ],
   "source": [
    "dataset.pix2deg()\n",
    "dataset.pos2vel('smooth')\n",
    "\n",
    "dataset.gaze[0].frame.head()\n"
   ]
  },
  {
   "cell_type": "code",
   "execution_count": null,
   "metadata": {},
   "outputs": [],
   "source": [
    "dataset.detect_events('microsaccades', minimum_duration=12)\n",
    "dataset.detect_events('ivt', velocity_threshold=20, name='fixation.ivt')\n",
    "\n",
    "dataset.events[0].frame.head()"
   ]
  }
 ],
 "metadata": {
  "kernelspec": {
   "display_name": ".venv",
   "language": "python",
   "name": "python3"
  },
  "language_info": {
   "codemirror_mode": {
    "name": "ipython",
    "version": 3
   },
   "file_extension": ".py",
   "mimetype": "text/x-python",
   "name": "python",
   "nbconvert_exporter": "python",
   "pygments_lexer": "ipython3",
   "version": "3.12.1"
  }
 },
 "nbformat": 4,
 "nbformat_minor": 2
}
